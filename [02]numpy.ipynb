{
  "nbformat": 4,
  "nbformat_minor": 0,
  "metadata": {
    "colab": {
      "name": "[02]numpy.ipynb",
      "provenance": [],
      "collapsed_sections": [],
      "authorship_tag": "ABX9TyMxzYCZJ01+f2TmVAr1n6Oj",
      "include_colab_link": true
    },
    "kernelspec": {
      "name": "python3",
      "display_name": "Python 3"
    },
    "language_info": {
      "name": "python"
    }
  },
  "cells": [
    {
      "cell_type": "markdown",
      "metadata": {
        "id": "view-in-github",
        "colab_type": "text"
      },
      "source": [
        "<a href=\"https://colab.research.google.com/github/ayoung0073/DeepLearning/blob/main/%5B02%5Dnumpy.ipynb\" target=\"_parent\"><img src=\"https://colab.research.google.com/assets/colab-badge.svg\" alt=\"Open In Colab\"/></a>"
      ]
    },
    {
      "cell_type": "markdown",
      "metadata": {
        "id": "agzYvP86Wprd"
      },
      "source": [
        "# NumPy"
      ]
    },
    {
      "cell_type": "markdown",
      "metadata": {
        "id": "Znf1FfFNSMh8"
      },
      "source": [
        "## 다차원 벡터 및 행렬 지원"
      ]
    },
    {
      "cell_type": "code",
      "metadata": {
        "colab": {
          "base_uri": "https://localhost:8080/"
        },
        "id": "Fgq29QI_InL_",
        "outputId": "7681738a-9895-4631-bc08-6f6c325ac877"
      },
      "source": [
        "import numpy as np\n",
        "import numpy.linalg as lin\n",
        "\n",
        "V = np.array([2, 3, 4]) # 3개의 원소로 이루어진 벡터\n",
        "M = np.array([[1, 2], [3, 4], [5, 6]]) # 3개의 리스트, 각각의 리스트가 2개의 원소 -> 3 x 2 행렬\n",
        "M = np.array([[1, 2, 3]]) # 1개의 행, 3개의 원소(행벡터는 벡터로 보기보다는 행렬로 보기)\n",
        "M = np.array([[1], [2], [3]]) # 3개의 행, 1개의 원소 : 3 x 1 행렬 (열벡터)\n",
        "M = np.array([[1, 2, 3], [4, 5, 6]]).reshape(3, 2) # reshape :  2 x 3 행렬 -> 3 x 2 행렬 (3원소의 개수 반드시 받아야 함)\n",
        "print(M)\n",
        "'''\n",
        " [[1 2]\n",
        " [3 4]\n",
        " [5 6]]\n",
        "'''\n",
        "\n",
        "# numpy는 3 행렬에 대한 전체 연산을 위해 transpose 함수를 제공한다.\n",
        "M = np.array([[1, 2, 3], [4, 5, 6]]).T # T : transpose 축약 표현\n",
        "print(M)\n"
      ],
      "execution_count": 19,
      "outputs": [
        {
          "output_type": "stream",
          "text": [
            "[[1 2]\n",
            " [3 4]\n",
            " [5 6]]\n",
            "[[1 4]\n",
            " [2 5]\n",
            " [3 6]]\n"
          ],
          "name": "stdout"
        }
      ]
    },
    {
      "cell_type": "markdown",
      "metadata": {
        "id": "0gOa-cSuTSHy"
      },
      "source": [
        "인덱싱과 슬라이싱을 통해 데이터의 특정 위치 원소 접근<br>\n",
        "','로 분리된 indexing으로 특정 위치의 값을 읽는다."
      ]
    },
    {
      "cell_type": "code",
      "metadata": {
        "colab": {
          "base_uri": "https://localhost:8080/"
        },
        "id": "8WQCXrjUSh_H",
        "outputId": "cb51b981-f0d7-46f2-ce1e-13b0afc003c7"
      },
      "source": [
        "a = np.array([[1, 2, 3], [4, 5, 6], [7, 8, 9]])\n",
        "print(a[1, 1]) # 5\n",
        "print(a[0]) # [1 2 3] # 행렬의 첫 번째 행\n",
        "print(a[:, 1]) # [2 5 8] # 모든 행 중의 두번째 열\n",
        "print(a[1, 1:3]) # [5 6] # 두번째 행의 2열 ~ 3열"
      ],
      "execution_count": 13,
      "outputs": [
        {
          "output_type": "stream",
          "text": [
            "5\n",
            "[1 2 3]\n",
            "[2 5 8]\n",
            "[5 6]\n"
          ],
          "name": "stdout"
        }
      ]
    },
    {
      "cell_type": "markdown",
      "metadata": {
        "id": "AXX7NLQ6WjLf"
      },
      "source": [
        "## 직접 연산 지원"
      ]
    },
    {
      "cell_type": "code",
      "metadata": {
        "colab": {
          "base_uri": "https://localhost:8080/"
        },
        "id": "Pd7HHBl4UVqc",
        "outputId": "76873e61-bcd7-4353-b505-2fcd61ff94ca"
      },
      "source": [
        "a = np.array([1, 3, 5, 7, 9])\n",
        "b = np.array([3, 5, 6, 7, 9]) # 두 개의 벡터\n",
        "c = a + b # 두 벡터의 계산\n",
        "print(c) # [ 4  8 11 14 18]\n",
        "\n",
        "a = np.array([1, 2, 3, 3, 2, 5]).reshape(2, 3)\n",
        "print(a)\n",
        "\n",
        "b = np.array([[-1, -1, -1], [0, 0, 0]]) # 두 개의 행렬\n",
        "c = a + b # 두 벡터의 계산\n",
        "print(c)\n"
      ],
      "execution_count": 18,
      "outputs": [
        {
          "output_type": "stream",
          "text": [
            "[ 4  8 11 14 18]\n",
            "[[1 2 3]\n",
            " [3 2 5]]\n",
            "[[0 1 2]\n",
            " [3 2 5]]\n"
          ],
          "name": "stdout"
        }
      ]
    },
    {
      "cell_type": "markdown",
      "metadata": {
        "id": "t_Yg4O3VWmzW"
      },
      "source": [
        "## 선형 대수 함수 지원\n",
        "####`matmul()`  \n",
        "두 행렬간 곱셈<br>\n",
        "#### `inv()`  \n",
        "역행렬 계산<br>\n",
        "`inv()` 함수는 행과 열의 크기가 같은 **정방행렬에만 적용** 가능\n",
        "\n",
        "- `의사역행렬 공식`을 활용해 임의의 크기에 대한 역행렬 계산 가능\n",
        "\n",
        "![image.png](data:image/png;base64,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)"
      ]
    },
    {
      "cell_type": "code",
      "metadata": {
        "id": "Q73ioTVQWtlD",
        "colab": {
          "base_uri": "https://localhost:8080/"
        },
        "outputId": "e6417209-f6b4-4b02-ae4e-92b1ea62d4bb"
      },
      "source": [
        "x = np.array([[1, 2], [4, 5], [6, 7]]) # 3 x 3\n",
        "y = np.array([[1, 2], [4, 5]]) # 2 x 2\n",
        "print(np.matmul(x, y)) # 3 x 2 \n",
        "\n",
        "a = np.array([[2, 2, 0], [-2, 1, 1], [3, 0, 1]])\n",
        "inv = lin.inv(a)\n",
        "A = np.array([[1, 2], [2, 4], [3, 6.4]])\n",
        "\n",
        "# 의사역행렬 공식\n",
        "pinv = np.matmul(np.linalg.inv(np.matmul(A.T, A)), A.T)"
      ],
      "execution_count": 20,
      "outputs": [
        {
          "output_type": "stream",
          "text": [
            "[[ 9 12]\n",
            " [24 33]\n",
            " [34 47]]\n"
          ],
          "name": "stdout"
        }
      ]
    }
  ]
}